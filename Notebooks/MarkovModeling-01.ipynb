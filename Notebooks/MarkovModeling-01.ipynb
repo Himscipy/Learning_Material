{
 "cells": [
  {
   "cell_type": "markdown",
   "metadata": {},
   "source": [
    "# Markov Chain Model Tutorial\n",
    "\n",
    "In this tutorial, we will learn how to build a Markov Chain model from a given dataset of observed state sequences. We will implement the model in Python, fit it with data, and use it to predict future states.\n",
    "\n",
    "## Step-by-Step Implementation\n",
    "\n",
    "1. Import necessary libraries.\n",
    "2. Define the `MarkovChain` class.\n",
    "3. Fit the model with data.\n",
    "4. Predict future states.\n",
    "5. Retrieve and visualize the transition matrix.\n",
    "\n",
    "Let's start!\n",
    "\n",
    "## Step 1: Import Necessary Libraries\n"
   ]
  },
  {
   "cell_type": "code",
   "execution_count": 5,
   "metadata": {},
   "outputs": [],
   "source": [
    "\n",
    "import numpy as np\n",
    "import pandas as pd"
   ]
  },
  {
   "cell_type": "markdown",
   "metadata": {},
   "source": [
    "## Step 2: Define the `MarkovChain` Class\n",
    "\n",
    "We will define a class `MarkovChain` that will manage the transition matrix, state list, and state index mapping.\n"
   ]
  },
  {
   "cell_type": "code",
   "execution_count": 6,
   "metadata": {},
   "outputs": [],
   "source": [
    "class MarkovChain:\n",
    "    def __init__(self):\n",
    "        self.transition_matrix = None\n",
    "        self.states = None\n",
    "        self.state_index = None\n",
    "    \n",
    "    def fit(self, data):\n",
    "        self.states = list(set(data))\n",
    "        self.state_index = {state: idx for idx, state in enumerate(self.states)}\n",
    "        \n",
    "        num_states = len(self.states)\n",
    "        self.transition_matrix = np.zeros((num_states, num_states))\n",
    "\n",
    "        for (state_from, state_to) in zip(data[:-1], data[1:]):\n",
    "            i = self.state_index[state_from]\n",
    "            j = self.state_index[state_to]\n",
    "            self.transition_matrix[i, j] += 1\n",
    "\n",
    "        # Normalize the transition matrix to get probabilities\n",
    "        row_sums = self.transition_matrix.sum(axis=1)\n",
    "        for i in range(num_states):\n",
    "            if row_sums[i] > 0:\n",
    "                self.transition_matrix[i] /= row_sums[i]\n",
    "\n",
    "    def predict(self, current_state, num_steps):\n",
    "        if self.transition_matrix is None:\n",
    "            raise ValueError(\"Model has not been fitted yet. Call fit() with training data.\")\n",
    "\n",
    "        predicted_states = []\n",
    "        current_index = self.state_index.get(current_state)\n",
    "        if current_index is None:\n",
    "            raise ValueError(\"Current state not in the list of known states.\")\n",
    "\n",
    "        for _ in range(num_steps):\n",
    "            next_state_dist = self.transition_matrix[current_index]\n",
    "            next_index = np.random.choice(len(self.states), p=next_state_dist)\n",
    "            current_index = next_index\n",
    "            predicted_states.append(self.states[next_index])\n",
    "        \n",
    "        return predicted_states\n",
    "\n",
    "    def get_transition_matrix(self):\n",
    "        return pd.DataFrame(self.transition_matrix, index=self.states, columns=self.states)\n"
   ]
  },
  {
   "cell_type": "markdown",
   "metadata": {},
   "source": [
    "## Step 3: Fit the Model with Data\n",
    "\n",
    "We will use an example dataset to fit our Markov Chain model.\n"
   ]
  },
  {
   "cell_type": "code",
   "execution_count": 7,
   "metadata": {},
   "outputs": [
    {
     "name": "stdout",
     "output_type": "stream",
     "text": [
      "Transition Matrix:\n",
      "          C         A         B\n",
      "C  0.333333  0.333333  0.333333\n",
      "A  0.250000  0.250000  0.500000\n",
      "B  0.250000  0.500000  0.250000\n"
     ]
    }
   ],
   "source": [
    "# Example dataset of observed state sequences\n",
    "example_data = ['A', 'A', 'B', 'A', 'C', 'C', 'B', 'B', 'A', 'B', 'C', 'A']\n",
    "\n",
    "mc = MarkovChain()\n",
    "mc.fit(example_data)\n",
    "\n",
    "print(\"Transition Matrix:\")\n",
    "print(mc.get_transition_matrix())\n"
   ]
  },
  {
   "cell_type": "markdown",
   "metadata": {},
   "source": [
    "## Step 5: Retrieve and Visualize the Transition Matrix\n",
    "\n",
    "Finally, we will retrieve the transition matrix and visualize it to understand the state transitions better.\n"
   ]
  },
  {
   "cell_type": "code",
   "execution_count": 8,
   "metadata": {},
   "outputs": [
    {
     "data": {
      "text/html": [
       "<div>\n",
       "<style scoped>\n",
       "    .dataframe tbody tr th:only-of-type {\n",
       "        vertical-align: middle;\n",
       "    }\n",
       "\n",
       "    .dataframe tbody tr th {\n",
       "        vertical-align: top;\n",
       "    }\n",
       "\n",
       "    .dataframe thead th {\n",
       "        text-align: right;\n",
       "    }\n",
       "</style>\n",
       "<table border=\"1\" class=\"dataframe\">\n",
       "  <thead>\n",
       "    <tr style=\"text-align: right;\">\n",
       "      <th></th>\n",
       "      <th>C</th>\n",
       "      <th>A</th>\n",
       "      <th>B</th>\n",
       "    </tr>\n",
       "  </thead>\n",
       "  <tbody>\n",
       "    <tr>\n",
       "      <th>C</th>\n",
       "      <td>0.333333</td>\n",
       "      <td>0.333333</td>\n",
       "      <td>0.333333</td>\n",
       "    </tr>\n",
       "    <tr>\n",
       "      <th>A</th>\n",
       "      <td>0.250000</td>\n",
       "      <td>0.250000</td>\n",
       "      <td>0.500000</td>\n",
       "    </tr>\n",
       "    <tr>\n",
       "      <th>B</th>\n",
       "      <td>0.250000</td>\n",
       "      <td>0.500000</td>\n",
       "      <td>0.250000</td>\n",
       "    </tr>\n",
       "  </tbody>\n",
       "</table>\n",
       "</div>"
      ],
      "text/plain": [
       "          C         A         B\n",
       "C  0.333333  0.333333  0.333333\n",
       "A  0.250000  0.250000  0.500000\n",
       "B  0.250000  0.500000  0.250000"
      ]
     },
     "execution_count": 8,
     "metadata": {},
     "output_type": "execute_result"
    }
   ],
   "source": [
    "# Retrieve the transition matrix as a DataFrame for better readability\n",
    "transition_matrix_df = mc.get_transition_matrix()\n",
    "transition_matrix_df"
   ]
  },
  {
   "cell_type": "markdown",
   "metadata": {},
   "source": [
    "And that’s it! You've successfully built and trained a Markov Chain model from data, and used it to make predictions. You can extend this model by incorporating more advanced features and applying it to more complex datasets. Happy modeling!\n"
   ]
  },
  {
   "cell_type": "code",
   "execution_count": null,
   "metadata": {},
   "outputs": [],
   "source": []
  }
 ],
 "metadata": {
  "kernelspec": {
   "display_name": "Project_VAai",
   "language": "python",
   "name": "python3"
  },
  "language_info": {
   "codemirror_mode": {
    "name": "ipython",
    "version": 3
   },
   "file_extension": ".py",
   "mimetype": "text/x-python",
   "name": "python",
   "nbconvert_exporter": "python",
   "pygments_lexer": "ipython3",
   "version": "3.9.19"
  }
 },
 "nbformat": 4,
 "nbformat_minor": 2
}
